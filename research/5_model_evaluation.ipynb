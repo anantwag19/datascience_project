{
 "cells": [
  {
   "cell_type": "code",
   "execution_count": null,
   "metadata": {},
   "outputs": [
    {
     "name": "stdout",
     "output_type": "stream",
     "text": [
      "Collecting dagshub\n",
      "  Using cached dagshub-0.5.9-py3-none-any.whl.metadata (12 kB)\n",
      "Requirement already satisfied: PyYAML>=5 in /Users/anantwaghmare/Desktop/Udemy_AI/datascience_project/datasciencenv/lib/python3.11/site-packages (from dagshub) (6.0.2)\n",
      "Collecting appdirs>=1.4.4 (from dagshub)\n",
      "  Using cached appdirs-1.4.4-py2.py3-none-any.whl.metadata (9.0 kB)\n",
      "Requirement already satisfied: click>=8.0.4 in /Users/anantwaghmare/Desktop/Udemy_AI/datascience_project/datasciencenv/lib/python3.11/site-packages (from dagshub) (8.1.8)\n",
      "Requirement already satisfied: httpx>=0.23.0 in /Users/anantwaghmare/Desktop/Udemy_AI/datascience_project/datasciencenv/lib/python3.11/site-packages (from dagshub) (0.28.1)\n",
      "Requirement already satisfied: GitPython>=3.1.29 in /Users/anantwaghmare/Desktop/Udemy_AI/datascience_project/datasciencenv/lib/python3.11/site-packages (from dagshub) (3.1.44)\n",
      "Collecting rich>=13.1.0 (from dagshub)\n",
      "  Using cached rich-14.0.0-py3-none-any.whl.metadata (18 kB)\n",
      "Collecting dacite~=1.6.0 (from dagshub)\n",
      "  Using cached dacite-1.6.0-py3-none-any.whl.metadata (14 kB)\n",
      "Collecting tenacity>=8.2.2 (from dagshub)\n",
      "  Using cached tenacity-9.1.2-py3-none-any.whl.metadata (1.2 kB)\n",
      "Collecting gql[requests] (from dagshub)\n",
      "  Using cached gql-3.5.2-py2.py3-none-any.whl.metadata (9.4 kB)\n",
      "Collecting dataclasses-json (from dagshub)\n",
      "  Using cached dataclasses_json-0.6.7-py3-none-any.whl.metadata (25 kB)\n",
      "Requirement already satisfied: pandas in /Users/anantwaghmare/Desktop/Udemy_AI/datascience_project/datasciencenv/lib/python3.11/site-packages (from dagshub) (2.2.3)\n",
      "Collecting treelib>=1.6.4 (from dagshub)\n",
      "  Using cached treelib-1.7.1-py3-none-any.whl.metadata (1.4 kB)\n",
      "Collecting pathvalidate>=3.0.0 (from dagshub)\n",
      "  Using cached pathvalidate-3.2.3-py3-none-any.whl.metadata (12 kB)\n",
      "Requirement already satisfied: python-dateutil in /Users/anantwaghmare/Desktop/Udemy_AI/datascience_project/datasciencenv/lib/python3.11/site-packages (from dagshub) (2.9.0.post0)\n",
      "Collecting boto3 (from dagshub)\n",
      "  Downloading boto3-1.38.0-py3-none-any.whl.metadata (6.6 kB)\n",
      "Collecting semver (from dagshub)\n",
      "  Using cached semver-3.0.4-py3-none-any.whl.metadata (6.8 kB)\n",
      "Collecting dagshub-annotation-converter>=0.1.5 (from dagshub)\n",
      "  Using cached dagshub_annotation_converter-0.1.9-py3-none-any.whl.metadata (2.5 kB)\n",
      "Collecting lxml (from dagshub-annotation-converter>=0.1.5->dagshub)\n",
      "  Downloading lxml-5.4.0-cp311-cp311-macosx_10_9_universal2.whl.metadata (3.5 kB)\n",
      "Requirement already satisfied: pillow in /Users/anantwaghmare/Desktop/Udemy_AI/datascience_project/datasciencenv/lib/python3.11/site-packages (from dagshub-annotation-converter>=0.1.5->dagshub) (11.2.1)\n",
      "Requirement already satisfied: pydantic>=2.0.0 in /Users/anantwaghmare/Desktop/Udemy_AI/datascience_project/datasciencenv/lib/python3.11/site-packages (from dagshub-annotation-converter>=0.1.5->dagshub) (2.11.3)\n",
      "Requirement already satisfied: typing-extensions in /Users/anantwaghmare/Desktop/Udemy_AI/datascience_project/datasciencenv/lib/python3.11/site-packages (from dagshub-annotation-converter>=0.1.5->dagshub) (4.13.2)\n",
      "Requirement already satisfied: gitdb<5,>=4.0.1 in /Users/anantwaghmare/Desktop/Udemy_AI/datascience_project/datasciencenv/lib/python3.11/site-packages (from GitPython>=3.1.29->dagshub) (4.0.12)\n",
      "Requirement already satisfied: anyio in /Users/anantwaghmare/Desktop/Udemy_AI/datascience_project/datasciencenv/lib/python3.11/site-packages (from httpx>=0.23.0->dagshub) (4.9.0)\n",
      "Requirement already satisfied: certifi in /Users/anantwaghmare/Desktop/Udemy_AI/datascience_project/datasciencenv/lib/python3.11/site-packages (from httpx>=0.23.0->dagshub) (2025.1.31)\n",
      "Requirement already satisfied: httpcore==1.* in /Users/anantwaghmare/Desktop/Udemy_AI/datascience_project/datasciencenv/lib/python3.11/site-packages (from httpx>=0.23.0->dagshub) (1.0.8)\n",
      "Requirement already satisfied: idna in /Users/anantwaghmare/Desktop/Udemy_AI/datascience_project/datasciencenv/lib/python3.11/site-packages (from httpx>=0.23.0->dagshub) (3.10)\n",
      "Requirement already satisfied: h11<0.15,>=0.13 in /Users/anantwaghmare/Desktop/Udemy_AI/datascience_project/datasciencenv/lib/python3.11/site-packages (from httpcore==1.*->httpx>=0.23.0->dagshub) (0.14.0)\n",
      "Collecting markdown-it-py>=2.2.0 (from rich>=13.1.0->dagshub)\n",
      "  Using cached markdown_it_py-3.0.0-py3-none-any.whl.metadata (6.9 kB)\n",
      "Requirement already satisfied: pygments<3.0.0,>=2.13.0 in /Users/anantwaghmare/Desktop/Udemy_AI/datascience_project/datasciencenv/lib/python3.11/site-packages (from rich>=13.1.0->dagshub) (2.19.1)\n",
      "Requirement already satisfied: six in /Users/anantwaghmare/Desktop/Udemy_AI/datascience_project/datasciencenv/lib/python3.11/site-packages (from treelib>=1.6.4->dagshub) (1.17.0)\n",
      "Collecting botocore<1.39.0,>=1.38.0 (from boto3->dagshub)\n",
      "  Downloading botocore-1.38.0-py3-none-any.whl.metadata (5.7 kB)\n",
      "Collecting jmespath<2.0.0,>=0.7.1 (from boto3->dagshub)\n",
      "  Using cached jmespath-1.0.1-py3-none-any.whl.metadata (7.6 kB)\n",
      "Collecting s3transfer<0.13.0,>=0.12.0 (from boto3->dagshub)\n",
      "  Downloading s3transfer-0.12.0-py3-none-any.whl.metadata (1.7 kB)\n",
      "Collecting marshmallow<4.0.0,>=3.18.0 (from dataclasses-json->dagshub)\n",
      "  Using cached marshmallow-3.26.1-py3-none-any.whl.metadata (7.3 kB)\n",
      "Collecting typing-inspect<1,>=0.4.0 (from dataclasses-json->dagshub)\n",
      "  Using cached typing_inspect-0.9.0-py3-none-any.whl.metadata (1.5 kB)\n",
      "Collecting graphql-core<3.2.5,>=3.2 (from gql[requests]->dagshub)\n",
      "  Using cached graphql_core-3.2.4-py3-none-any.whl.metadata (10 kB)\n",
      "Collecting yarl<2.0,>=1.6 (from gql[requests]->dagshub)\n",
      "  Downloading yarl-1.20.0-cp311-cp311-macosx_11_0_arm64.whl.metadata (72 kB)\n",
      "Collecting backoff<3.0,>=1.11.1 (from gql[requests]->dagshub)\n",
      "  Using cached backoff-2.2.1-py3-none-any.whl.metadata (14 kB)\n",
      "Requirement already satisfied: requests<3,>=2.26 in /Users/anantwaghmare/Desktop/Udemy_AI/datascience_project/datasciencenv/lib/python3.11/site-packages (from gql[requests]->dagshub) (2.32.3)\n",
      "Collecting requests-toolbelt<2,>=1.0.0 (from gql[requests]->dagshub)\n",
      "  Using cached requests_toolbelt-1.0.0-py2.py3-none-any.whl.metadata (14 kB)\n",
      "Requirement already satisfied: numpy>=1.23.2 in /Users/anantwaghmare/Desktop/Udemy_AI/datascience_project/datasciencenv/lib/python3.11/site-packages (from pandas->dagshub) (2.2.5)\n",
      "Requirement already satisfied: pytz>=2020.1 in /Users/anantwaghmare/Desktop/Udemy_AI/datascience_project/datasciencenv/lib/python3.11/site-packages (from pandas->dagshub) (2025.2)\n",
      "Requirement already satisfied: tzdata>=2022.7 in /Users/anantwaghmare/Desktop/Udemy_AI/datascience_project/datasciencenv/lib/python3.11/site-packages (from pandas->dagshub) (2025.2)\n",
      "Requirement already satisfied: sniffio>=1.1 in /Users/anantwaghmare/Desktop/Udemy_AI/datascience_project/datasciencenv/lib/python3.11/site-packages (from anyio->httpx>=0.23.0->dagshub) (1.3.1)\n",
      "Requirement already satisfied: urllib3!=2.2.0,<3,>=1.25.4 in /Users/anantwaghmare/Desktop/Udemy_AI/datascience_project/datasciencenv/lib/python3.11/site-packages (from botocore<1.39.0,>=1.38.0->boto3->dagshub) (2.4.0)\n",
      "Requirement already satisfied: smmap<6,>=3.0.1 in /Users/anantwaghmare/Desktop/Udemy_AI/datascience_project/datasciencenv/lib/python3.11/site-packages (from gitdb<5,>=4.0.1->GitPython>=3.1.29->dagshub) (5.0.2)\n",
      "Collecting mdurl~=0.1 (from markdown-it-py>=2.2.0->rich>=13.1.0->dagshub)\n",
      "  Using cached mdurl-0.1.2-py3-none-any.whl.metadata (1.6 kB)\n",
      "Requirement already satisfied: packaging>=17.0 in /Users/anantwaghmare/Desktop/Udemy_AI/datascience_project/datasciencenv/lib/python3.11/site-packages (from marshmallow<4.0.0,>=3.18.0->dataclasses-json->dagshub) (24.2)\n",
      "Requirement already satisfied: annotated-types>=0.6.0 in /Users/anantwaghmare/Desktop/Udemy_AI/datascience_project/datasciencenv/lib/python3.11/site-packages (from pydantic>=2.0.0->dagshub-annotation-converter>=0.1.5->dagshub) (0.7.0)\n",
      "Requirement already satisfied: pydantic-core==2.33.1 in /Users/anantwaghmare/Desktop/Udemy_AI/datascience_project/datasciencenv/lib/python3.11/site-packages (from pydantic>=2.0.0->dagshub-annotation-converter>=0.1.5->dagshub) (2.33.1)\n",
      "Requirement already satisfied: typing-inspection>=0.4.0 in /Users/anantwaghmare/Desktop/Udemy_AI/datascience_project/datasciencenv/lib/python3.11/site-packages (from pydantic>=2.0.0->dagshub-annotation-converter>=0.1.5->dagshub) (0.4.0)\n",
      "Requirement already satisfied: charset-normalizer<4,>=2 in /Users/anantwaghmare/Desktop/Udemy_AI/datascience_project/datasciencenv/lib/python3.11/site-packages (from requests<3,>=2.26->gql[requests]->dagshub) (3.4.1)\n",
      "Collecting mypy-extensions>=0.3.0 (from typing-inspect<1,>=0.4.0->dataclasses-json->dagshub)\n",
      "  Downloading mypy_extensions-1.1.0-py3-none-any.whl.metadata (1.1 kB)\n",
      "Collecting multidict>=4.0 (from yarl<2.0,>=1.6->gql[requests]->dagshub)\n",
      "  Downloading multidict-6.4.3-cp311-cp311-macosx_11_0_arm64.whl.metadata (5.3 kB)\n",
      "Collecting propcache>=0.2.1 (from yarl<2.0,>=1.6->gql[requests]->dagshub)\n",
      "  Downloading propcache-0.3.1-cp311-cp311-macosx_11_0_arm64.whl.metadata (10 kB)\n",
      "Using cached dagshub-0.5.9-py3-none-any.whl (260 kB)\n",
      "Using cached appdirs-1.4.4-py2.py3-none-any.whl (9.6 kB)\n",
      "Using cached dacite-1.6.0-py3-none-any.whl (12 kB)\n",
      "Using cached dagshub_annotation_converter-0.1.9-py3-none-any.whl (33 kB)\n",
      "Using cached pathvalidate-3.2.3-py3-none-any.whl (24 kB)\n",
      "Using cached rich-14.0.0-py3-none-any.whl (243 kB)\n",
      "Using cached tenacity-9.1.2-py3-none-any.whl (28 kB)\n",
      "Using cached treelib-1.7.1-py3-none-any.whl (19 kB)\n",
      "Downloading boto3-1.38.0-py3-none-any.whl (139 kB)\n",
      "Using cached dataclasses_json-0.6.7-py3-none-any.whl (28 kB)\n",
      "Using cached semver-3.0.4-py3-none-any.whl (17 kB)\n",
      "Using cached backoff-2.2.1-py3-none-any.whl (15 kB)\n",
      "Downloading botocore-1.38.0-py3-none-any.whl (13.5 MB)\n",
      "\u001b[2K   \u001b[90m━━━━━━━━━━━━━━━━━━━━━━━━━━━━━━━━━━━━━━━━\u001b[0m \u001b[32m13.5/13.5 MB\u001b[0m \u001b[31m7.6 MB/s\u001b[0m eta \u001b[36m0:00:00\u001b[0ma \u001b[36m0:00:01\u001b[0m\n",
      "\u001b[?25hUsing cached graphql_core-3.2.4-py3-none-any.whl (203 kB)\n",
      "Using cached jmespath-1.0.1-py3-none-any.whl (20 kB)\n",
      "Using cached markdown_it_py-3.0.0-py3-none-any.whl (87 kB)\n",
      "Using cached marshmallow-3.26.1-py3-none-any.whl (50 kB)\n",
      "Using cached requests_toolbelt-1.0.0-py2.py3-none-any.whl (54 kB)\n",
      "Downloading s3transfer-0.12.0-py3-none-any.whl (84 kB)\n",
      "Using cached typing_inspect-0.9.0-py3-none-any.whl (8.8 kB)\n",
      "Downloading yarl-1.20.0-cp311-cp311-macosx_11_0_arm64.whl (94 kB)\n",
      "Using cached gql-3.5.2-py2.py3-none-any.whl (74 kB)\n",
      "Downloading lxml-5.4.0-cp311-cp311-macosx_10_9_universal2.whl (8.1 MB)\n",
      "\u001b[2K   \u001b[90m━━━━━━━━━━━━━━━━━━━━━━━━━━━━━━━━━━━━━━━━\u001b[0m \u001b[32m8.1/8.1 MB\u001b[0m \u001b[31m1.5 MB/s\u001b[0m eta \u001b[36m0:00:00\u001b[0ma \u001b[36m0:00:01\u001b[0mm\n",
      "\u001b[?25hUsing cached mdurl-0.1.2-py3-none-any.whl (10.0 kB)\n",
      "Downloading multidict-6.4.3-cp311-cp311-macosx_11_0_arm64.whl (37 kB)\n",
      "Downloading mypy_extensions-1.1.0-py3-none-any.whl (5.0 kB)\n",
      "Downloading propcache-0.3.1-cp311-cp311-macosx_11_0_arm64.whl (45 kB)\n",
      "Installing collected packages: appdirs, treelib, tenacity, semver, propcache, pathvalidate, mypy-extensions, multidict, mdurl, marshmallow, lxml, jmespath, graphql-core, dacite, backoff, yarl, typing-inspect, requests-toolbelt, markdown-it-py, botocore, s3transfer, rich, gql, dataclasses-json, dagshub-annotation-converter, boto3, dagshub\n",
      "  Attempting uninstall: graphql-core\n",
      "    Found existing installation: graphql-core 3.2.6\n",
      "    Uninstalling graphql-core-3.2.6:\n",
      "      Successfully uninstalled graphql-core-3.2.6\n",
      "Successfully installed appdirs-1.4.4 backoff-2.2.1 boto3-1.38.0 botocore-1.38.0 dacite-1.6.0 dagshub-0.5.9 dagshub-annotation-converter-0.1.9 dataclasses-json-0.6.7 gql-3.5.2 graphql-core-3.2.4 jmespath-1.0.1 lxml-5.4.0 markdown-it-py-3.0.0 marshmallow-3.26.1 mdurl-0.1.2 multidict-6.4.3 mypy-extensions-1.1.0 pathvalidate-3.2.3 propcache-0.3.1 requests-toolbelt-1.0.0 rich-14.0.0 s3transfer-0.12.0 semver-3.0.4 tenacity-9.1.2 treelib-1.7.1 typing-inspect-0.9.0 yarl-1.20.0\n"
     ]
    },
    {
     "ename": "NameError",
     "evalue": "name 'dagshub' is not defined",
     "output_type": "error",
     "traceback": [
      "\u001b[31m---------------------------------------------------------------------------\u001b[39m",
      "\u001b[31mNameError\u001b[39m                                 Traceback (most recent call last)",
      "\u001b[36mCell\u001b[39m\u001b[36m \u001b[39m\u001b[32mIn[5]\u001b[39m\u001b[32m, line 7\u001b[39m\n\u001b[32m      4\u001b[39m \u001b[38;5;28;01mimport\u001b[39;00m\u001b[38;5;250m \u001b[39m\u001b[34;01mos\u001b[39;00m\n\u001b[32m      5\u001b[39m os.environ[\u001b[33m\"\u001b[39m\u001b[33mMLFLOW_TRACKING_URI\u001b[39m\u001b[33m\"\u001b[39m]=\u001b[33m\"\u001b[39m\u001b[33mhttps://dagshub.com/anantwag19/datascience_project.mlflow\u001b[39m\u001b[33m\"\u001b[39m\n\u001b[32m----> \u001b[39m\u001b[32m7\u001b[39m \u001b[43mdagshub\u001b[49m.init(repo_owner=\u001b[33m'\u001b[39m\u001b[33manantwag19\u001b[39m\u001b[33m'\u001b[39m, repo_name=\u001b[33m'\u001b[39m\u001b[33mdatascience_project\u001b[39m\u001b[33m'\u001b[39m, mlflow=\u001b[38;5;28;01mTrue\u001b[39;00m)\n",
      "\u001b[31mNameError\u001b[39m: name 'dagshub' is not defined"
     ]
    }
   ],
   "source": [
    "import os\n",
    "os.environ[\"MLFLOW_TRACKING_URI\"]=\"https://dagshub.com/anantwag19/datascience_project.mlflow\"\n",
    "os.environ[\"MLFLOW_TRACKING_USERNAME\"]=\"anantwag19\"\n",
    "os.environ[\"MLFLOW_TRACKING_PASSWORD\"]=\"1f02ee57d9a75d0f6eb7dda3aa725319dbe06609\""
   ]
  },
  {
   "cell_type": "code",
   "execution_count": 2,
   "metadata": {},
   "outputs": [
    {
     "data": {
      "text/plain": [
       "'e:\\\\UDemy Final\\\\MLOPS\\\\datascienceproject\\\\research'"
      ]
     },
     "execution_count": 2,
     "metadata": {},
     "output_type": "execute_result"
    }
   ],
   "source": [
    "import os\n",
    "%pwd"
   ]
  },
  {
   "cell_type": "code",
   "execution_count": 3,
   "metadata": {},
   "outputs": [
    {
     "data": {
      "text/plain": [
       "'e:\\\\UDemy Final\\\\MLOPS\\\\datascienceproject'"
      ]
     },
     "execution_count": 3,
     "metadata": {},
     "output_type": "execute_result"
    }
   ],
   "source": [
    "os.chdir(\"../\")\n",
    "%pwd"
   ]
  },
  {
   "cell_type": "code",
   "execution_count": 4,
   "metadata": {},
   "outputs": [],
   "source": [
    "from dataclasses import dataclass\n",
    "from pathlib import Path\n",
    "\n",
    "\n",
    "@dataclass\n",
    "class ModelEvaluationConfig:\n",
    "    root_dir: Path\n",
    "    test_data_path: Path\n",
    "    model_path: Path\n",
    "    all_params: dict\n",
    "    metric_file_name: Path\n",
    "    target_column: str\n",
    "    mlflow_uri: str\n"
   ]
  },
  {
   "cell_type": "code",
   "execution_count": 5,
   "metadata": {},
   "outputs": [],
   "source": [
    "from src.datascience.constants import *\n",
    "from src.datascience.utils.common import read_yaml, create_directories,save_json"
   ]
  },
  {
   "cell_type": "code",
   "execution_count": 6,
   "metadata": {},
   "outputs": [],
   "source": [
    "class ConfigurationManager:\n",
    "    def __init__(\n",
    "        self,\n",
    "        config_filepath = CONFIG_FILE_PATH,\n",
    "        params_filepath = PARAMS_FILE_PATH,\n",
    "        schema_filepath = SCHEMA_FILE_PATH):\n",
    "\n",
    "        self.config = read_yaml(config_filepath)\n",
    "        self.params = read_yaml(params_filepath)\n",
    "        self.schema = read_yaml(schema_filepath)\n",
    "\n",
    "        create_directories([self.config.artifacts_root])\n",
    "\n",
    "    def get_model_evaluation_config(self) -> ModelEvaluationConfig:\n",
    "        config=self.config.model_evaluation\n",
    "        params=self.params.ElasticNet\n",
    "        schema=self.schema.TARGET_COLUMN\n",
    "\n",
    "        create_directories([config.root_dir])\n",
    "\n",
    "        model_evaluation_config=ModelEvaluationConfig(\n",
    "            root_dir=config.root_dir,\n",
    "            test_data_path=config.test_data_path,\n",
    "            model_path = config.model_path,\n",
    "            all_params=params,\n",
    "            metric_file_name = config.metric_file_name,\n",
    "            target_column = schema.name,\n",
    "            mlflow_uri=\"https://dagshub.com/krishnaik06/datascienceproject.mlflow\"\n",
    "\n",
    "\n",
    "        )\n",
    "        return model_evaluation_config\n"
   ]
  },
  {
   "cell_type": "code",
   "execution_count": 7,
   "metadata": {},
   "outputs": [],
   "source": [
    "import os\n",
    "import pandas as pd\n",
    "from sklearn.metrics import mean_squared_error, mean_absolute_error, r2_score\n",
    "from urllib.parse import urlparse\n",
    "import mlflow\n",
    "import mlflow.sklearn\n",
    "import numpy as np\n",
    "import joblib"
   ]
  },
  {
   "cell_type": "code",
   "execution_count": 8,
   "metadata": {},
   "outputs": [],
   "source": [
    "class ModelEvaluation:\n",
    "    def __init__(self, config: ModelEvaluationConfig):\n",
    "        self.config = config\n",
    "\n",
    "    def eval_metrics(self,actual, pred):\n",
    "        rmse = np.sqrt(mean_squared_error(actual, pred))\n",
    "        mae = mean_absolute_error(actual, pred)\n",
    "        r2 = r2_score(actual, pred)\n",
    "        return rmse, mae, r2\n",
    "    \n",
    "    def log_into_mlflow(self):\n",
    "\n",
    "        test_data = pd.read_csv(self.config.test_data_path)\n",
    "        model = joblib.load(self.config.model_path)\n",
    "\n",
    "        test_x = test_data.drop([self.config.target_column], axis=1)\n",
    "        test_y = test_data[[self.config.target_column]]\n",
    "\n",
    "\n",
    "        mlflow.set_registry_uri(self.config.mlflow_uri)\n",
    "        tracking_url_type_store = urlparse(mlflow.get_tracking_uri()).scheme\n",
    "\n",
    "        with mlflow.start_run():\n",
    "\n",
    "            predicted_qualities = model.predict(test_x)\n",
    "\n",
    "            (rmse, mae, r2) = self.eval_metrics(test_y, predicted_qualities)\n",
    "            \n",
    "            # Saving metrics as local\n",
    "            scores = {\"rmse\": rmse, \"mae\": mae, \"r2\": r2}\n",
    "            save_json(path=Path(self.config.metric_file_name), data=scores)\n",
    "\n",
    "            mlflow.log_params(self.config.all_params)\n",
    "\n",
    "            mlflow.log_metric(\"rmse\", rmse)\n",
    "            mlflow.log_metric(\"r2\", r2)\n",
    "            mlflow.log_metric(\"mae\", mae)\n",
    "\n",
    "\n",
    "            # Model registry does not work with file store\n",
    "            if tracking_url_type_store != \"file\":\n",
    "\n",
    "                # Register the model\n",
    "                # There are other ways to use the Model Registry, which depends on the use case,\n",
    "                # please refer to the doc for more information:\n",
    "                # https://mlflow.org/docs/latest/model-registry.html#api-workflow\n",
    "                mlflow.sklearn.log_model(model, \"model\", registered_model_name=\"ElasticnetModel\")\n",
    "            else:\n",
    "                mlflow.sklearn.log_model(model, \"model\")\n",
    "    \n"
   ]
  },
  {
   "cell_type": "code",
   "execution_count": 9,
   "metadata": {},
   "outputs": [
    {
     "name": "stdout",
     "output_type": "stream",
     "text": [
      "[2024-10-09 10:27:03,773: INFO: common: yaml file: config\\config.yaml loaded successfully]\n",
      "[2024-10-09 10:27:03,776: INFO: common: yaml file: params.yaml loaded successfully]\n",
      "[2024-10-09 10:27:03,786: INFO: common: yaml file: schema.yaml loaded successfully]\n",
      "[2024-10-09 10:27:03,789: INFO: common: created directory at: artifacts]\n",
      "[2024-10-09 10:27:03,790: INFO: common: created directory at: artifacts/model_evaluation]\n",
      "[2024-10-09 10:27:05,238: INFO: common: json file saved at: artifacts\\model_evaluation\\metrics.json]\n"
     ]
    },
    {
     "name": "stderr",
     "output_type": "stream",
     "text": [
      "2024/10/09 10:27:27 WARNING mlflow.models.model: Model logged without a signature and input example. Please set `input_example` parameter when logging the model to auto infer the model signature.\n",
      "Successfully registered model 'ElasticnetModel'.\n",
      "2024/10/09 10:27:32 INFO mlflow.store.model_registry.abstract_store: Waiting up to 300 seconds for model version to finish creation. Model name: ElasticnetModel, version 1\n",
      "Created version '1' of model 'ElasticnetModel'.\n",
      "2024/10/09 10:27:32 INFO mlflow.tracking._tracking_service.client: 🏃 View run gaudy-sponge-144 at: https://dagshub.com/krishnaik06/datascienceproject.mlflow/#/experiments/0/runs/e6ba693e04de4ad492824b5dd26af2d2.\n",
      "2024/10/09 10:27:32 INFO mlflow.tracking._tracking_service.client: 🧪 View experiment at: https://dagshub.com/krishnaik06/datascienceproject.mlflow/#/experiments/0.\n"
     ]
    }
   ],
   "source": [
    "try:\n",
    "    config = ConfigurationManager()\n",
    "    model_evaluation_config = config.get_model_evaluation_config()\n",
    "    model_evaluation = ModelEvaluation(config=model_evaluation_config)\n",
    "    model_evaluation.log_into_mlflow()\n",
    "except Exception as e:\n",
    "    raise e"
   ]
  },
  {
   "cell_type": "code",
   "execution_count": null,
   "metadata": {},
   "outputs": [],
   "source": []
  }
 ],
 "metadata": {
  "kernelspec": {
   "display_name": "Python 3",
   "language": "python",
   "name": "python3"
  },
  "language_info": {
   "codemirror_mode": {
    "name": "ipython",
    "version": 3
   },
   "file_extension": ".py",
   "mimetype": "text/x-python",
   "name": "python",
   "nbconvert_exporter": "python",
   "pygments_lexer": "ipython3",
   "version": "3.11.11"
  }
 },
 "nbformat": 4,
 "nbformat_minor": 2
}
